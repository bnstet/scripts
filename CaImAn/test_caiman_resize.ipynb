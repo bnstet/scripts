{
 "cells": [
  {
   "cell_type": "code",
   "execution_count": 26,
   "metadata": {},
   "outputs": [
    {
     "ename": "SyntaxError",
     "evalue": "invalid syntax (<ipython-input-26-a78c9f78105c>, line 10)",
     "output_type": "error",
     "traceback": [
      "\u001b[0;36m  File \u001b[0;32m\"<ipython-input-26-a78c9f78105c>\"\u001b[0;36m, line \u001b[0;32m10\u001b[0m\n\u001b[0;31m    from PIL import Image, Image.BILINEAR\u001b[0m\n\u001b[0m                                ^\u001b[0m\n\u001b[0;31mSyntaxError\u001b[0m\u001b[0;31m:\u001b[0m invalid syntax\n"
     ]
    }
   ],
   "source": [
    "import bokeh.plotting as bpl\n",
    "import cv2\n",
    "import glob\n",
    "import matplotlib.pyplot as plt\n",
    "import numpy as np\n",
    "import os\n",
    "import tifffile as tif\n",
    "from time import time, sleep\n",
    "\n",
    "from PIL import Image\n",
    "\n",
    "try:\n",
    "    cv2.setNumThreads(0)\n",
    "except():\n",
    "    pass\n",
    "\n",
    "try:\n",
    "    if __IPYTHON__:\n",
    "        # this is used for debugging purposes only. allows to reload classes\n",
    "        # when changed\n",
    "        get_ipython().magic('load_ext autoreload')\n",
    "        get_ipython().magic('autoreload 2')\n",
    "except NameError:\n",
    "    pass\n",
    "\n",
    "import caiman as cm\n",
    "from caiman.motion_correction import MotionCorrect\n",
    "from caiman.source_extraction.cnmf import cnmf as cnmf\n",
    "from caiman.source_extraction.cnmf import params as params\n",
    "from caiman.utils.utils import download_demo\n",
    "from caiman.utils.visualization import plot_contours, nb_view_patches, nb_plot_contour\n",
    "\n",
    "from caiman.source_extraction import cnmf as cnmf\n",
    "from scipy.sparse import csc_matrix\n",
    "\n",
    "from scipy.io import savemat, loadmat\n",
    "\n",
    "from scipy.ndimage.filters import gaussian_filter\n",
    "from scipy.ndimage.interpolation import shift\n",
    "\n",
    "from caiman.source_extraction.cnmf.utilities import extract_DF_F, detrend_df_f\n",
    "\n",
    "import pandas as pd\n",
    "\n",
    "import h5py\n",
    "bpl.output_notebook()\n"
   ]
  },
  {
   "cell_type": "code",
   "execution_count": 28,
   "metadata": {},
   "outputs": [
    {
     "data": {
      "text/plain": [
       "array([[ 22.22449  , -44.535713 ,   7.214286 , ..., -21.589285 ,\n",
       "        -27.446428 ,  12.755103 ],\n",
       "       [ 15.214287 , -48.046875 ,   7.78125  , ...,   2.515625 ,\n",
       "         -1.375    ,   4.589286 ],\n",
       "       [ 29.428572 ,  13.828125 ,  -0.796875 , ...,  43.546875 ,\n",
       "         33.375    ,   8.482143 ],\n",
       "       ...,\n",
       "       [-25.571428 ,  21.59375  ,   0.609375 , ...,  18.75     ,\n",
       "         11.390625 ,   5.6250005],\n",
       "       [ 18.821428 , -33.796875 ,   1.140625 , ...,  18.96875  ,\n",
       "         11.       ,  19.839285 ],\n",
       "       [ 22.081633 ,   9.535714 , -33.339287 , ...,  33.732143 ,\n",
       "        -31.535715 , -18.367348 ]], dtype=float32)"
      ]
     },
     "execution_count": 28,
     "metadata": {},
     "output_type": "execute_result"
    }
   ],
   "source": [
    "arr = np.random.randint(255,size=(256,256)) - 128\n",
    "arr_type = arr.dtype\n",
    "new_size = (128,128)\n",
    "im = Image.fromarray(arr.astype('float')).resize(new_size, resample=Image.BILINEAR)\n",
    "new_arr = np.array(im)\n",
    "new_arr"
   ]
  },
  {
   "cell_type": "code",
   "execution_count": 93,
   "metadata": {},
   "outputs": [],
   "source": [
    "# define utility functions\n",
    "\n",
    "def resize_frames(image_in, new_frame_size, resample = Image.BILINEAR, dtype_out = np.float32):\n",
    "    \"\"\"\n",
    "    resize image stack, possibly with multiple channels\n",
    "    \n",
    "    params\n",
    "    image_in: input stack. can be any shape, but the last 2 dimensions must be the image dimensions.\n",
    "    new_frame_size: length-2 tuple of the new image dimensions\n",
    "    resample: PIL.Image resample type; default is PIL.Image.BILINEAR\n",
    "    dtype_out: data type of output\n",
    "    \n",
    "    output\n",
    "    image stack of type dtype_out with last 2 dimensions = new_frame_size and all other\n",
    "        dimensions equal to those of image_in\n",
    "    \"\"\"\n",
    "    im_dims = image_in.shape\n",
    "    frame_dims = im_dims[-2:]\n",
    "    stack_dims = im_dims[:-2]\n",
    "    image_in = np.reshape(image_in, (-1,) + frame_dims, order='C')\n",
    "    image_out = np.empty((len(image_in),) + new_frame_size)\n",
    "    for i,frame in enumerate(image_in):\n",
    "        image_out[i] = np.array( Image.fromarray(frame.astype(np.float32)) \\\n",
    "                                .resize(new_frame_size, resample=resample) )\n",
    "    return image_out.astype(dtype_out).reshape(stack_dims + new_frame_size)\n",
    "\n",
    "\n",
    "def bin_frames(arr, bin_size, axis=0, op=np.mean, dtype_out=np.float32):\n",
    "    \"\"\"\n",
    "    Group together consecutive image frames from a stack and combine frames within groups via a given operation\n",
    "    \n",
    "    params\n",
    "    arr: input image stack (allowed to have channels). the only requirements are that the image dimensions\n",
    "        are the last 2 dimensions, and 'axis' is not one of the image dimensions.\n",
    "    bin_size: size of binning groups\n",
    "    axis: bin axis\n",
    "    op: operation used to combine binned frames. should be a numpy array operation; default is np.mean\n",
    "    dtype_out: output data type\n",
    "    \n",
    "    output:\n",
    "    array binned along axis, of data type dtype_out\n",
    "    \"\"\"\n",
    "    in_shape = arr.shape\n",
    "    arr = arr.swapaxes(axis,0) # get \"axis\" to the front of the dimensions\n",
    "    ax_length = len(arr)\n",
    "    if ax_length % bin_size:\n",
    "        raise Exception(\"the length of arr along axis must be a multiple of bin_size\")\n",
    "    arr = arr.reshape((-1,bin_size) + arr.shape[1:], order='C') # front is now (num_bins) x (bin_size)\n",
    "    output = op(arr, axis=1, keepdims=False) # aggregate along the bin_size dimension\n",
    "    output = output.swapaxes(axis,0) # return axis to appropriate position\n",
    "    return output.astype(dtype_out)\n",
    "    "
   ]
  },
  {
   "cell_type": "code",
   "execution_count": 73,
   "metadata": {},
   "outputs": [],
   "source": [
    "mov = tif.imread('/gpfs/home/stetlb01/sample_movie/sample_movie.tif')\n",
    "mov2 = resize_images(mov, (256,256))"
   ]
  },
  {
   "cell_type": "code",
   "execution_count": 90,
   "metadata": {},
   "outputs": [],
   "source": [
    "mov_mean = bin_frames(mov2, bin_size=5)\n",
    "mov_max = bin_frames(mov2, bin_size=5, op=np.max)"
   ]
  },
  {
   "cell_type": "code",
   "execution_count": 94,
   "metadata": {},
   "outputs": [
    {
     "data": {
      "text/plain": [
       "(40, 256, 256)"
      ]
     },
     "execution_count": 94,
     "metadata": {},
     "output_type": "execute_result"
    }
   ],
   "source": [
    "mov_mean.shape"
   ]
  }
 ],
 "metadata": {
  "kernelspec": {
   "display_name": "Python 3",
   "language": "python",
   "name": "python3"
  },
  "language_info": {
   "codemirror_mode": {
    "name": "ipython",
    "version": 3
   },
   "file_extension": ".py",
   "mimetype": "text/x-python",
   "name": "python",
   "nbconvert_exporter": "python",
   "pygments_lexer": "ipython3",
   "version": "3.6.7"
  }
 },
 "nbformat": 4,
 "nbformat_minor": 2
}
